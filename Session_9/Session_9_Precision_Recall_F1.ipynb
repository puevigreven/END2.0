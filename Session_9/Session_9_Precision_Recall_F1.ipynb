{
  "nbformat": 4,
  "nbformat_minor": 0,
  "metadata": {
    "accelerator": "GPU",
    "colab": {
      "name": "Session 9 Precision Recall F1.ipynb",
      "provenance": [],
      "collapsed_sections": []
    },
    "kernelspec": {
      "display_name": "Python 3",
      "name": "python3"
    },
    "language_info": {
      "name": "python"
    }
  },
  "cells": [
    {
      "cell_type": "code",
      "metadata": {
        "id": "4SPhj6gnAnT2"
      },
      "source": [
        "import torch\n",
        "from torchtext.legacy import data\n",
        "\n",
        "SEED = 1234\n",
        "\n",
        "torch.manual_seed(SEED)\n",
        "torch.backends.cudnn.deterministic = True\n",
        "\n",
        "TEXT = data.Field(tokenize = 'spacy',\n",
        "                  tokenizer_language = 'en_core_web_sm')\n",
        "LABEL = data.LabelField(dtype = torch.float)"
      ],
      "execution_count": null,
      "outputs": []
    },
    {
      "cell_type": "code",
      "metadata": {
        "colab": {
          "base_uri": "https://localhost:8080/"
        },
        "id": "lwn4oStE6PzV",
        "outputId": "696c93a6-08ef-498f-dc5d-923fc8c35f3a"
      },
      "source": [
        "from torchtext.legacy import datasets\n",
        "\n",
        "train_data, test_data = datasets.IMDB.splits(TEXT, LABEL)"
      ],
      "execution_count": null,
      "outputs": [
        {
          "output_type": "stream",
          "text": [
            "downloading aclImdb_v1.tar.gz\n"
          ],
          "name": "stdout"
        },
        {
          "output_type": "stream",
          "text": [
            "aclImdb_v1.tar.gz: 100%|██████████| 84.1M/84.1M [00:02<00:00, 30.5MB/s]\n"
          ],
          "name": "stderr"
        }
      ]
    },
    {
      "cell_type": "code",
      "metadata": {
        "colab": {
          "base_uri": "https://localhost:8080/"
        },
        "id": "5DLJ86m56Xdn",
        "outputId": "20101c63-2427-465c-d0c3-5509c15169a5"
      },
      "source": [
        "print(f'Number of training examples: {len(train_data)}')\n",
        "print(f'Number of testing examples: {len(test_data)}')"
      ],
      "execution_count": 42,
      "outputs": [
        {
          "output_type": "stream",
          "text": [
            "Number of training examples: 17500\n",
            "Number of testing examples: 25000\n"
          ],
          "name": "stdout"
        }
      ]
    },
    {
      "cell_type": "code",
      "metadata": {
        "colab": {
          "base_uri": "https://localhost:8080/"
        },
        "id": "iXTWwqXA6rP2",
        "outputId": "d263a503-fe02-41d0-eb1a-6740e28b928d"
      },
      "source": [
        "print(vars(train_data.examples[0]))"
      ],
      "execution_count": 43,
      "outputs": [
        {
          "output_type": "stream",
          "text": [
            "{'text': ['I', 'did', \"n't\", 'even', 'know', 'this', 'was', 'originally', 'a', 'made', '-', 'for', '-', 'tv', 'movie', 'when', 'I', 'saw', 'it', ',', 'but', 'I', 'guessed', 'it', 'through', 'the', 'running', 'time', '.', 'It', 'has', 'the', 'same', 'washed', '-', 'out', 'colors', ',', 'bland', 'characters', ',', 'and', 'horrible', 'synthesized', 'music', 'that', 'I', 'remember', 'from', 'the', '80', \"'s\", ',', 'plus', 'a', \"'\", 'social', 'platform', \"'\", 'that', 'practically', 'screams', '\"', 'Afterschool', 'special', '\"', '.', 'Anyhoo.<br', '/><br', '/>Rona', 'Jaffe', \"'s\", '(', 'thank', 'you', ')', 'Mazes', 'and', 'Monsters', 'was', 'made', 'in', 'the', 'heyday', 'of', 'Dungeons', '&', 'Dragons', ',', 'a', 'pen', '-', 'and', '-', 'paper', 'RPG', 'that', 'took', 'the', 'hearts', 'of', 'millions', 'of', 'geeks', 'around', 'America', '.', 'I', 'count', 'myself', 'one', 'of', 'said', 'geeks', ',', 'tho', 'I', 'have', 'never', 'played', 'D&D', 'specifically', 'I', 'have', 'dabbled', 'in', 'one', 'of', 'its', 'brethren', '.', 'M&M', 'was', 'also', 'made', 'in', 'the', 'heyday', 'of', 'D&D', \"'s\", 'major', 'controversy', '-', 'that', 'it', 'was', 'so', 'engrossing', 'that', 'people', 'could', 'lose', 'touch', 'with', 'reality', ',', 'be', 'worshiping', 'Satan', 'without', 'knowing', ',', 'blah', 'blah', '.', 'I', 'suppose', 'it', 'was', 'a', 'legitimate', 'concern', 'at', 'one', 'point', ',', 'if', 'extremely', 'rare', '-', 'but', 'it', 'dates', 'this', 'movie', 'horrendously.<br', '/><br', '/>We', 'meet', '4', 'young', 'college', 'students', ',', 'who', 'play', 'the', 'aptly', 'named', 'Mazes', 'and', 'Monsters', ',', 'to', 'socialize', 'and', 'have', 'a', 'little', 'time', 'away', 'from', 'mundane', 'life', '.', 'Except', 'that', 'M&M', 'as', 'presented', 'is', 'more', 'boring', 'than', 'their', 'mundane', 'lives', '.', 'None', 'of', 'the', 'allure', 'of', 'gaming', 'is', 'presented', 'here', '-', 'and', 'Jay', 'Jay', \"'s\", 'request', 'to', 'take', 'M&M', 'into', \"'\", 'the', 'real', 'world', \"'\", 'comes', 'out', 'of', 'nowhere', '.', 'It', \"'s\", 'just', 'an', 'excuse', 'to', 'make', 'one', 'of', 'the', 'characters', 'go', 'crazy', 'out', 'of', 'nowhere', 'also', '-', 'though', 'at', 'that', 'point', 'we', 'do', \"n't\", 'really', 'care', '.', 'Jay', 'Jay', ',', 'Robbie', ',', 'Kate', 'and', 'Daniel', 'are', 'supposed', 'to', 'be', 'different', '-', 'but', 'they', \"'re\", 'all', 'rich', 'WASPy', 'prigs', 'who', 'have', 'problems', 'no', 'one', 'really', 'has.<br', '/><br', '/>But', 'things', 'just', 'continue', ',', 'getting', 'worse', 'in', 'more', 'ways', 'than', 'one', '.', 'The', 'low', 'budget', 'comes', 'dreadfully', 'clear', ',', '(', 'I', 'love', 'the', \"'\", 'Entrance', \"'\", 'sign', 'and', 'cardboard', 'cutout', 'to', 'the', 'forbidden', 'caverns', ')', 'Robbie', '/', 'Pardu', 'shows', 'why', 'he', \"'s\", 'not', 'a', 'warrior', 'in', 'the', 'oafiest', 'stabbing', 'scene', 'ever', ',', 'and', 'the', 'payoff', 'atop', 'the', \"'\", 'Two', 'Towers', \"'\", 'is', 'unintentionally', 'hilarious', '.', 'Tom', 'Hanks', \"'\", 'blubbering', '\"', 'Jay', 'Jay', ',', 'what', 'am', 'I', 'doing', 'here', '?', '\"', 'made', 'me', 'laugh', 'for', 'minutes', 'on', 'end', '.', 'Definitely', 'the', 'low', 'point', 'in', 'his', 'career.<br', '/><br', \"/>Don't\", 'look', 'at', 'it', 'as', 'a', 'cogent', 'satire', ',', 'just', 'a', 'laughable', 'piece', 'of', '80', \"'s\", 'TV', 'trash', ',', 'and', 'you', \"'ll\", 'still', 'have', 'a', 'good', 'time', '.', 'That', 'is', ',', 'if', 'you', 'can', 'stay', 'awake', '.', 'The', 'majority', 'is', 'mostly', 'boring', ',', 'but', 'it', \"'s\", 'all', 'worthwhile', 'for', 'Pardu', \"'s\", 'breakdown', 'at', 'the', 'end', '.', 'At', 'least', 'Tom', 'Hanks', 'has', 'gotten', 'better', '.', 'Not', 'that', 'he', 'could', 'go', 'much', 'worse', 'from', 'here', '.'], 'label': 'neg'}\n"
          ],
          "name": "stdout"
        }
      ]
    },
    {
      "cell_type": "code",
      "metadata": {
        "id": "3HMVqiZd6tR0"
      },
      "source": [
        "import random\n",
        "\n",
        "train_data, valid_data = train_data.split(random_state = random.seed(SEED))"
      ],
      "execution_count": 44,
      "outputs": []
    },
    {
      "cell_type": "code",
      "metadata": {
        "colab": {
          "base_uri": "https://localhost:8080/"
        },
        "id": "uOeQ6KpP7M-0",
        "outputId": "55d212da-1dda-4b1b-d9d7-3794ca5f0674"
      },
      "source": [
        "print(f'Number of training examples: {len(train_data)}')\n",
        "print(f'Number of validation examples: {len(valid_data)}')\n",
        "print(f'Number of testing examples: {len(test_data)}')"
      ],
      "execution_count": 45,
      "outputs": [
        {
          "output_type": "stream",
          "text": [
            "Number of training examples: 12250\n",
            "Number of validation examples: 5250\n",
            "Number of testing examples: 25000\n"
          ],
          "name": "stdout"
        }
      ]
    },
    {
      "cell_type": "code",
      "metadata": {
        "id": "KixkM1jQ7TB-"
      },
      "source": [
        "MAX_VOCAB_SIZE = 25_000\n",
        "\n",
        "TEXT.build_vocab(train_data, max_size = MAX_VOCAB_SIZE)\n",
        "LABEL.build_vocab(train_data)"
      ],
      "execution_count": 46,
      "outputs": []
    },
    {
      "cell_type": "code",
      "metadata": {
        "colab": {
          "base_uri": "https://localhost:8080/"
        },
        "id": "hD4SFKnc7g0D",
        "outputId": "6e87d0a9-254c-4cf1-caad-dec5c4f8fafd"
      },
      "source": [
        "print(f\"Unique tokens in TEXT vocabulary: {len(TEXT.vocab)}\")\n",
        "print(f\"Unique tokens in LABEL vocabulary: {len(LABEL.vocab)}\")"
      ],
      "execution_count": 47,
      "outputs": [
        {
          "output_type": "stream",
          "text": [
            "Unique tokens in TEXT vocabulary: 25002\n",
            "Unique tokens in LABEL vocabulary: 2\n"
          ],
          "name": "stdout"
        }
      ]
    },
    {
      "cell_type": "code",
      "metadata": {
        "colab": {
          "base_uri": "https://localhost:8080/"
        },
        "id": "ttKvFTCQ7isK",
        "outputId": "c58249db-a3f8-4560-c35b-c0379474baa1"
      },
      "source": [
        "print(TEXT.vocab.freqs.most_common(20))"
      ],
      "execution_count": 48,
      "outputs": [
        {
          "output_type": "stream",
          "text": [
            "[('the', 141856), (',', 134002), ('.', 115388), ('and', 76495), ('a', 76058), ('of', 69877), ('to', 65801), ('is', 53244), ('in', 42890), ('I', 37791), ('it', 37066), ('that', 34456), ('\"', 30772), (\"'s\", 29755), ('this', 29660), ('-', 25565), ('was', 24569), ('/><br', 24551), ('as', 21015), ('with', 20837)]\n"
          ],
          "name": "stdout"
        }
      ]
    },
    {
      "cell_type": "code",
      "metadata": {
        "colab": {
          "base_uri": "https://localhost:8080/"
        },
        "id": "fZXIsIV47mlI",
        "outputId": "fb8d8c70-66e6-4755-cf07-b84cac1ac7b0"
      },
      "source": [
        "print(TEXT.vocab.itos[:10])"
      ],
      "execution_count": 49,
      "outputs": [
        {
          "output_type": "stream",
          "text": [
            "['<unk>', '<pad>', 'the', ',', '.', 'and', 'a', 'of', 'to', 'is']\n"
          ],
          "name": "stdout"
        }
      ]
    },
    {
      "cell_type": "code",
      "metadata": {
        "colab": {
          "base_uri": "https://localhost:8080/"
        },
        "id": "vmbx3T9-7x4g",
        "outputId": "4f396f5e-1a45-4f1a-8e38-4eb0ea9917e4"
      },
      "source": [
        "print(LABEL.vocab.stoi)"
      ],
      "execution_count": 50,
      "outputs": [
        {
          "output_type": "stream",
          "text": [
            "defaultdict(None, {'neg': 0, 'pos': 1})\n"
          ],
          "name": "stdout"
        }
      ]
    },
    {
      "cell_type": "code",
      "metadata": {
        "id": "B3gBfP6mEJ_0"
      },
      "source": [
        "BATCH_SIZE = 64\n",
        "\n",
        "device = torch.device('cuda' if torch.cuda.is_available() else 'cpu')\n",
        "\n",
        "train_iterator, valid_iterator, test_iterator = data.BucketIterator.splits(\n",
        "    (train_data, valid_data, test_data), \n",
        "    batch_size = BATCH_SIZE,\n",
        "    device = device)"
      ],
      "execution_count": 51,
      "outputs": []
    },
    {
      "cell_type": "code",
      "metadata": {
        "id": "E2ZQQV1-ELZf"
      },
      "source": [
        "import torch.nn as nn\n",
        "\n",
        "class RNN(nn.Module):\n",
        "    def __init__(self, input_dim, embedding_dim, hidden_dim, output_dim):\n",
        "        \n",
        "        super().__init__()\n",
        "        \n",
        "        self.embedding = nn.Embedding(input_dim, embedding_dim)\n",
        "        \n",
        "        self.rnn = nn.RNN(embedding_dim, hidden_dim)\n",
        "        \n",
        "        self.fc = nn.Linear(hidden_dim, output_dim)\n",
        "        \n",
        "    def forward(self, text):\n",
        "\n",
        "        #text = [sent len, batch size]\n",
        "        \n",
        "        embedded = self.embedding(text)\n",
        "        \n",
        "        #embedded = [sent len, batch size, emb dim]\n",
        "        \n",
        "        output, hidden = self.rnn(embedded)\n",
        "        \n",
        "        #output = [sent len, batch size, hid dim]\n",
        "        #hidden = [1, batch size, hid dim]\n",
        "        \n",
        "        assert torch.equal(output[-1,:,:], hidden.squeeze(0))\n",
        "        \n",
        "        return self.fc(hidden.squeeze(0))"
      ],
      "execution_count": 52,
      "outputs": []
    },
    {
      "cell_type": "code",
      "metadata": {
        "id": "x0_X5kSwENad"
      },
      "source": [
        "\n",
        "INPUT_DIM = len(TEXT.vocab)\n",
        "EMBEDDING_DIM = 100\n",
        "HIDDEN_DIM = 256\n",
        "OUTPUT_DIM = 1\n",
        "\n",
        "model = RNN(INPUT_DIM, EMBEDDING_DIM, HIDDEN_DIM, OUTPUT_DIM)"
      ],
      "execution_count": 53,
      "outputs": []
    },
    {
      "cell_type": "code",
      "metadata": {
        "colab": {
          "base_uri": "https://localhost:8080/"
        },
        "id": "VdGb8dKBEO2x",
        "outputId": "34f607e9-8bd7-4b2c-d911-d3825a151ec3"
      },
      "source": [
        "def count_parameters(model):\n",
        "    return sum(p.numel() for p in model.parameters() if p.requires_grad)\n",
        "\n",
        "print(f'The model has {count_parameters(model):,} trainable parameters')"
      ],
      "execution_count": 54,
      "outputs": [
        {
          "output_type": "stream",
          "text": [
            "The model has 2,592,105 trainable parameters\n"
          ],
          "name": "stdout"
        }
      ]
    },
    {
      "cell_type": "code",
      "metadata": {
        "id": "AAeEtXiJEQCj"
      },
      "source": [
        "import torch.optim as optim\n",
        "\n",
        "optimizer = optim.SGD(model.parameters(), lr=1e-3)"
      ],
      "execution_count": 55,
      "outputs": []
    },
    {
      "cell_type": "code",
      "metadata": {
        "id": "0Utp4-qAERRG"
      },
      "source": [
        "criterion = nn.BCEWithLogitsLoss()"
      ],
      "execution_count": 56,
      "outputs": []
    },
    {
      "cell_type": "code",
      "metadata": {
        "id": "PyAXf58FESdL"
      },
      "source": [
        "model = model.to(device)\n",
        "criterion = criterion.to(device)"
      ],
      "execution_count": 57,
      "outputs": []
    },
    {
      "cell_type": "code",
      "metadata": {
        "id": "9mGc7LpI5sJK"
      },
      "source": [
        "def prec_rec_f1_cal(rounded_preds, true_vals):\n",
        "    tp = 0\n",
        "    tn = 0\n",
        "    fp = 0\n",
        "    fn = 0\n",
        "    tp = sum((true_vals == 1) & (rounded_preds == 1))\n",
        "    tn = sum((true_vals == 0) & (rounded_preds == 0))\n",
        "    fn = sum((true_vals == 1) & (rounded_preds == 0))\n",
        "    fp = sum((true_vals == 0) & (rounded_preds == 1))\n",
        "\t# return tp, tn, fp, fn\n",
        "    if (tp + fp) != 0:\n",
        "        precision = tp / (tp + fp)\n",
        "    else:\n",
        "        precision = 0\n",
        "    if (tp + fn) != 0:\n",
        "        recall = tp / (tp + fn)\n",
        "    else:\n",
        "        recall = 0\n",
        "    if (precision + recall) != 0:\n",
        "        f1_score = precision * recall / (precision + recall)\n",
        "    else: \n",
        "        f1_score = 0\n",
        "    return precision, recall, f1_score\n"
      ],
      "execution_count": 92,
      "outputs": []
    },
    {
      "cell_type": "code",
      "metadata": {
        "id": "w4yNiGXQETh9"
      },
      "source": [
        "def binary_accuracy(preds, y):\n",
        "    \"\"\"\n",
        "    Returns accuracy per batch, i.e. if you get 8/10 right, this returns 0.8, NOT 8\n",
        "    \"\"\"\n",
        "    #round predictions to the closest integer\n",
        "    rounded_preds = torch.round(torch.sigmoid(preds))\n",
        "    correct = (rounded_preds == y).float() #convert into float for division \n",
        "    precision, recall, f1_score = prec_rec_f1_cal(rounded_preds, y)\n",
        "\n",
        "    acc = correct.sum() / len(correct)\n",
        "    return acc, precision, recall, f1_score"
      ],
      "execution_count": 112,
      "outputs": []
    },
    {
      "cell_type": "code",
      "metadata": {
        "id": "N1iGJW1wEUrL"
      },
      "source": [
        "def train(model, iterator, optimizer, criterion):\n",
        "    \n",
        "    epoch_loss = 0\n",
        "    epoch_acc = 0\n",
        "    epoch_precision = 0\n",
        "    epoch_recall = 0\n",
        "    epoch_f1_score = 0\n",
        "\n",
        "    model.train()\n",
        "    \n",
        "    for batch in iterator:\n",
        "        \n",
        "        optimizer.zero_grad()\n",
        "                \n",
        "        predictions = model(batch.text).squeeze(1)\n",
        "        \n",
        "        loss = criterion(predictions, batch.label)\n",
        "        \n",
        "        acc, precision, recall, f1_score = binary_accuracy(predictions, batch.label)\n",
        "        \n",
        "        loss.backward()\n",
        "        \n",
        "        optimizer.step()\n",
        "        \n",
        "        epoch_loss += loss.item()\n",
        "        epoch_acc += acc.item()\n",
        "        epoch_precision += precision\n",
        "        epoch_recall += recall\n",
        "        epoch_f1_score += f1_score\n",
        "    return epoch_loss / len(iterator), epoch_acc / len(iterator),  epoch_precision / len(iterator),  epoch_recall / len(iterator), epoch_f1_score / len(iterator)"
      ],
      "execution_count": 113,
      "outputs": []
    },
    {
      "cell_type": "code",
      "metadata": {
        "id": "HNQxQS3tEWUW"
      },
      "source": [
        "def evaluate(model, iterator, criterion):\n",
        "    \n",
        "    epoch_loss = 0\n",
        "    epoch_acc = 0\n",
        "    epoch_precision = 0\n",
        "    epoch_recall = 0\n",
        "    epoch_f1_score = 0\n",
        "    \n",
        "    model.eval()\n",
        "    \n",
        "    with torch.no_grad():\n",
        "    \n",
        "        for batch in iterator:\n",
        "\n",
        "            predictions = model(batch.text).squeeze(1)\n",
        "            \n",
        "            loss = criterion(predictions, batch.label)\n",
        "            \n",
        "            acc, precision, recall, f1_score = binary_accuracy(predictions, batch.label)\n",
        "\n",
        "            epoch_loss += loss.item()\n",
        "            epoch_acc += acc.item()\n",
        "            epoch_precision += precision\n",
        "            epoch_recall += recall\n",
        "            epoch_f1_score += f1_score        \n",
        "    return epoch_loss / len(iterator), epoch_acc / len(iterator),  epoch_precision / len(iterator),  epoch_recall / len(iterator), epoch_f1_score / len(iterator)"
      ],
      "execution_count": 114,
      "outputs": []
    },
    {
      "cell_type": "code",
      "metadata": {
        "id": "DVM8MtV6EYIw"
      },
      "source": [
        "import time\n",
        "\n",
        "def epoch_time(start_time, end_time):\n",
        "    elapsed_time = end_time - start_time\n",
        "    elapsed_mins = int(elapsed_time / 60)\n",
        "    elapsed_secs = int(elapsed_time - (elapsed_mins * 60))\n",
        "    return elapsed_mins, elapsed_secs"
      ],
      "execution_count": 115,
      "outputs": []
    },
    {
      "cell_type": "code",
      "metadata": {
        "colab": {
          "base_uri": "https://localhost:8080/"
        },
        "id": "yJ5KZmM4EZXW",
        "outputId": "39a4d86e-9b28-4d0b-8b1d-57038bdb8511"
      },
      "source": [
        "N_EPOCHS = 10\n",
        "\n",
        "best_valid_loss = float('inf')\n",
        "\n",
        "for epoch in range(N_EPOCHS):\n",
        "\n",
        "    start_time = time.time()\n",
        "    \n",
        "    train_loss, train_acc, train_precision, train_recall, train_f1_score = train(model, train_iterator, optimizer, criterion)\n",
        "    valid_loss, valid_acc, val_precision, val_recall, val_f1_score = evaluate(model, valid_iterator, criterion)\n",
        "    \n",
        "    end_time = time.time()\n",
        "\n",
        "    epoch_mins, epoch_secs = epoch_time(start_time, end_time)\n",
        "    \n",
        "    if valid_loss < best_valid_loss:\n",
        "        best_valid_loss = valid_loss\n",
        "        torch.save(model.state_dict(), 'tut1-model.pt')\n",
        "    \n",
        "    print(f'Epoch: {epoch+1:02} | Epoch Time: {epoch_mins}m {epoch_secs}s')\n",
        "    print(f'\\tTrain Loss: {train_loss:.3f} | Train Acc: {train_acc*100:.2f}%  | Train Precision: {train_precision*100:.2f}%  | Train Recall: {train_recall*100:.2f}%  | Train F1 Score: {train_f1_score*100:.2f}%')\n",
        "    print(f'\\t Val. Loss: {valid_loss:.3f} |  Val. Acc: {valid_acc*100:.2f}%  | Val Precision: {val_precision*100:.2f}%    | val Recall: {val_recall*100:.2f}%   | Val F1 Score: {val_f1_score*100:.2f}%')\n",
        "    "
      ],
      "execution_count": 122,
      "outputs": [
        {
          "output_type": "stream",
          "text": [
            "Epoch: 01 | Epoch Time: 0m 12s\n",
            "\tTrain Loss: 0.693 | Train Acc: 50.33%  | Train Precision: 38.14%  | Train Recall: 9.80%  | Train F1 Score: 3.89%\n",
            "\t Val. Loss: 0.695 |  Val. Acc: 48.31%  | Val Precision: 41.98%    | val Recall: 14.65%   | Val F1 Score: 10.39%\n",
            "Epoch: 02 | Epoch Time: 0m 12s\n",
            "\tTrain Loss: 0.693 | Train Acc: 50.39%  | Train Precision: 35.07%  | Train Recall: 3.68%  | Train F1 Score: 1.88%\n",
            "\t Val. Loss: 0.695 |  Val. Acc: 48.46%  | Val Precision: 40.46%    | val Recall: 11.19%   | Val F1 Score: 8.26%\n",
            "Epoch: 03 | Epoch Time: 0m 12s\n",
            "\tTrain Loss: 0.693 | Train Acc: 50.63%  | Train Precision: 37.50%  | Train Recall: 1.19%  | Train F1 Score: 1.16%\n",
            "\t Val. Loss: 0.695 |  Val. Acc: 48.42%  | Val Precision: 41.16%    | val Recall: 11.55%   | Val F1 Score: 8.50%\n",
            "Epoch: 04 | Epoch Time: 0m 12s\n",
            "\tTrain Loss: 0.693 | Train Acc: 50.12%  | Train Precision: 35.48%  | Train Recall: 13.92%  | Train F1 Score: 5.14%\n",
            "\t Val. Loss: 0.695 |  Val. Acc: 48.44%  | Val Precision: 40.26%    | val Recall: 10.86%   | Val F1 Score: 8.03%\n",
            "Epoch: 05 | Epoch Time: 0m 12s\n",
            "\tTrain Loss: 0.693 | Train Acc: 50.27%  | Train Precision: 35.81%  | Train Recall: 15.43%  | Train F1 Score: 5.65%\n",
            "\t Val. Loss: 0.696 |  Val. Acc: 48.44%  | Val Precision: 38.01%    | val Recall: 9.50%   | Val F1 Score: 7.08%\n",
            "Epoch: 06 | Epoch Time: 0m 12s\n",
            "\tTrain Loss: 0.693 | Train Acc: 50.24%  | Train Precision: 34.74%  | Train Recall: 8.19%  | Train F1 Score: 3.30%\n",
            "\t Val. Loss: 0.695 |  Val. Acc: 48.42%  | Val Precision: 40.01%    | val Recall: 11.18%   | Val F1 Score: 8.25%\n",
            "Epoch: 07 | Epoch Time: 0m 12s\n",
            "\tTrain Loss: 0.693 | Train Acc: 50.72%  | Train Precision: 38.02%  | Train Recall: 1.23%  | Train F1 Score: 1.19%\n",
            "\t Val. Loss: 0.695 |  Val. Acc: 48.46%  | Val Precision: 43.36%    | val Recall: 16.55%   | Val F1 Score: 11.48%\n",
            "Epoch: 08 | Epoch Time: 0m 12s\n",
            "\tTrain Loss: 0.693 | Train Acc: 50.15%  | Train Precision: 36.03%  | Train Recall: 32.29%  | Train F1 Score: 11.09%\n",
            "\t Val. Loss: 0.696 |  Val. Acc: 48.57%  | Val Precision: 38.49%    | val Recall: 9.17%   | Val F1 Score: 6.87%\n",
            "Epoch: 09 | Epoch Time: 0m 12s\n",
            "\tTrain Loss: 0.693 | Train Acc: 50.11%  | Train Precision: 38.51%  | Train Recall: 10.91%  | Train F1 Score: 4.20%\n",
            "\t Val. Loss: 0.696 |  Val. Acc: 48.55%  | Val Precision: 38.53%    | val Recall: 9.19%   | Val F1 Score: 6.88%\n",
            "Epoch: 10 | Epoch Time: 0m 12s\n",
            "\tTrain Loss: 0.693 | Train Acc: 50.67%  | Train Precision: 33.96%  | Train Recall: 8.16%  | Train F1 Score: 3.39%\n",
            "\t Val. Loss: 0.695 |  Val. Acc: 49.12%  | Val Precision: 47.94%    | val Recall: 51.99%   | Val F1 Score: 23.55%\n"
          ],
          "name": "stdout"
        }
      ]
    },
    {
      "cell_type": "code",
      "metadata": {
        "colab": {
          "base_uri": "https://localhost:8080/"
        },
        "id": "qIiKAJMaEbKO",
        "outputId": "6b17b76e-0b6d-40fb-9d21-7b750db7ab5c"
      },
      "source": [
        "model.load_state_dict(torch.load('tut1-model.pt'))\n",
        "\n",
        "test_loss, test_acc, test_precision, test_recall, test_f1_score = evaluate(model, test_iterator, criterion)\n",
        "\n",
        "print(f'Test Loss: {test_loss:.3f} | Test Acc: {test_acc*100:.2f}% | test Precision: {test_precision*100:.2f}%  | test Recall: {test_recall*100:.2f}%  | Test F1 Score: {test_f1_score*100:.2f}%')\n",
        "    "
      ],
      "execution_count": 123,
      "outputs": [
        {
          "output_type": "stream",
          "text": [
            "Test Loss: 0.685 | Test Acc: 59.81% | test Precision: 63.37%  | test Recall: 54.19%  | Test F1 Score: 27.34%\n"
          ],
          "name": "stdout"
        }
      ]
    },
    {
      "cell_type": "code",
      "metadata": {
        "id": "G024NssCEcj0"
      },
      "source": [
        ""
      ],
      "execution_count": null,
      "outputs": []
    }
  ]
}