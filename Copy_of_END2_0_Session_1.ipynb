{
  "nbformat": 4,
  "nbformat_minor": 0,
  "metadata": {
    "colab": {
      "name": "Copy of END2.0 Session 1.ipynb",
      "provenance": [],
      "include_colab_link": true
    },
    "kernelspec": {
      "name": "python3",
      "display_name": "Python 3"
    },
    "language_info": {
      "name": "python"
    }
  },
  "cells": [
    {
      "cell_type": "markdown",
      "metadata": {
        "id": "view-in-github",
        "colab_type": "text"
      },
      "source": [
        "<a href=\"https://colab.research.google.com/github/puevigreven/END2.0/blob/main/Copy_of_END2_0_Session_1.ipynb\" target=\"_parent\"><img src=\"https://colab.research.google.com/assets/colab-badge.svg\" alt=\"Open In Colab\"/></a>"
      ]
    },
    {
      "cell_type": "code",
      "metadata": {
        "colab": {
          "base_uri": "https://localhost:8080/"
        },
        "id": "GC_6PeobwwkH",
        "outputId": "a3a3afc9-19eb-4ea9-9396-c3d83b08b0d8"
      },
      "source": [
        "import torch\n",
        "from torch.autograd import Variable\n",
        "import torch.nn as nn\n",
        "import torch.nn.functional as F\n",
        "import torch.optim as optim\n",
        "import numpy as np\n",
        "import matplotlib.pyplot as plt\n",
        "%matplotlib inline\n",
        "torch.manual_seed(2)"
      ],
      "execution_count": 1,
      "outputs": [
        {
          "output_type": "execute_result",
          "data": {
            "text/plain": [
              "<torch._C.Generator at 0x7f87d35cb8d0>"
            ]
          },
          "metadata": {
            "tags": []
          },
          "execution_count": 1
        }
      ]
    },
    {
      "cell_type": "code",
      "metadata": {
        "id": "bL64bMTkw2GP"
      },
      "source": [
        "X = torch.Tensor([[0,0], [0,1], [1,0], [1,1]])\n",
        "Y = torch.Tensor([0, 1, 1, 0]).view(-1,1)"
      ],
      "execution_count": 2,
      "outputs": []
    },
    {
      "cell_type": "code",
      "metadata": {
        "id": "aC82kEAIw3Wf"
      },
      "source": [
        "class XOR(nn.Module):\n",
        "    def __init__(self, input_dim = 2, output_dim=1):\n",
        "        super(XOR, self).__init__()\n",
        "        self.lin1 = nn.Linear(input_dim, 5)\n",
        "        self.lin2 = nn.Linear(5, 4)\n",
        "        self.lin3 = nn.Linear(4, output_dim)\n",
        "    def forward(self, x):\n",
        "        x = self.lin1(x)\n",
        "        x = F.tanh(x)\n",
        "        x = self.lin2(x)\n",
        "        x = F.tanh(x)\n",
        "        x = self.lin3(x)\n",
        "        # x = F.tanh(x)\n",
        "        return x"
      ],
      "execution_count": 8,
      "outputs": []
    },
    {
      "cell_type": "code",
      "metadata": {
        "colab": {
          "base_uri": "https://localhost:8080/"
        },
        "id": "8gQIQExYw65K",
        "outputId": "0bdf3ad9-444f-45dc-9ac3-e510c82cb6cf"
      },
      "source": [
        "model = XOR()\n",
        "print(model)\n",
        "from torchsummary import summary\n",
        "summary(model, (2,2))"
      ],
      "execution_count": 9,
      "outputs": [
        {
          "output_type": "stream",
          "text": [
            "XOR(\n",
            "  (lin1): Linear(in_features=2, out_features=5, bias=True)\n",
            "  (lin2): Linear(in_features=5, out_features=4, bias=True)\n",
            "  (lin3): Linear(in_features=4, out_features=1, bias=True)\n",
            ")\n",
            "----------------------------------------------------------------\n",
            "        Layer (type)               Output Shape         Param #\n",
            "================================================================\n",
            "            Linear-1                 [-1, 2, 5]              15\n",
            "            Linear-2                 [-1, 2, 4]              24\n",
            "            Linear-3                 [-1, 2, 1]               5\n",
            "================================================================\n",
            "Total params: 44\n",
            "Trainable params: 44\n",
            "Non-trainable params: 0\n",
            "----------------------------------------------------------------\n",
            "Input size (MB): 0.00\n",
            "Forward/backward pass size (MB): 0.00\n",
            "Params size (MB): 0.00\n",
            "Estimated Total Size (MB): 0.00\n",
            "----------------------------------------------------------------\n"
          ],
          "name": "stdout"
        },
        {
          "output_type": "stream",
          "text": [
            "/usr/local/lib/python3.7/dist-packages/torch/nn/functional.py:1698: UserWarning: nn.functional.tanh is deprecated. Use torch.tanh instead.\n",
            "  warnings.warn(\"nn.functional.tanh is deprecated. Use torch.tanh instead.\")\n"
          ],
          "name": "stderr"
        }
      ]
    },
    {
      "cell_type": "code",
      "metadata": {
        "id": "yeotEq19x6XF"
      },
      "source": [
        "def weights_init(model):\n",
        "    for m in model.modules():\n",
        "        if isinstance(m, nn.Linear):\n",
        "            # initialize the weight tensor, here we use a normal distribution\n",
        "            m.weight.data.normal_(0, 1)\n",
        "\n",
        "weights_init(model)"
      ],
      "execution_count": 10,
      "outputs": []
    },
    {
      "cell_type": "code",
      "metadata": {
        "id": "WrD_sNzLx78e"
      },
      "source": [
        "loss_func = nn.L1Loss()"
      ],
      "execution_count": 11,
      "outputs": []
    },
    {
      "cell_type": "code",
      "metadata": {
        "id": "-zvbrMd2x_lA"
      },
      "source": [
        "optimizer = optim.SGD(model.parameters(), lr=0.02, momentum=0.9)\n"
      ],
      "execution_count": 12,
      "outputs": []
    },
    {
      "cell_type": "code",
      "metadata": {
        "colab": {
          "base_uri": "https://localhost:8080/"
        },
        "id": "q7tWa3D7yA5X",
        "outputId": "136bbab8-1c68-4e30-da30-fbe156ba3188"
      },
      "source": [
        "epochs = 2001\n",
        "steps = X.size(0)\n",
        "for i in range(epochs):\n",
        "    for j in range(steps):\n",
        "        data_point = np.random.randint(X.size(0))\n",
        "        x_var = Variable(X[data_point], requires_grad=False)\n",
        "        y_var = Variable(Y[data_point], requires_grad=False)\n",
        "        \n",
        "        optimizer.zero_grad()\n",
        "        y_hat = model(x_var)\n",
        "        loss = loss_func.forward(y_hat, y_var)\n",
        "        loss.backward()\n",
        "        optimizer.step()\n",
        "        \n",
        "    if i % 50 == 0:\n",
        "        print( \"Epoch: {0}, Loss: {1}, \".format(i, loss.data.numpy()))"
      ],
      "execution_count": 18,
      "outputs": [
        {
          "output_type": "stream",
          "text": [
            "/usr/local/lib/python3.7/dist-packages/torch/nn/functional.py:1698: UserWarning: nn.functional.tanh is deprecated. Use torch.tanh instead.\n",
            "  warnings.warn(\"nn.functional.tanh is deprecated. Use torch.tanh instead.\")\n"
          ],
          "name": "stderr"
        },
        {
          "output_type": "stream",
          "text": [
            "Epoch: 0, Loss: 0.04989224672317505, \n",
            "Epoch: 50, Loss: 0.46448051929473877, \n",
            "Epoch: 100, Loss: 0.016662895679473877, \n",
            "Epoch: 150, Loss: 0.06187939643859863, \n",
            "Epoch: 200, Loss: 0.10038536787033081, \n",
            "Epoch: 250, Loss: 0.45605552196502686, \n",
            "Epoch: 300, Loss: 0.5385172367095947, \n",
            "Epoch: 350, Loss: 0.22364497184753418, \n",
            "Epoch: 400, Loss: 0.2241789698600769, \n",
            "Epoch: 450, Loss: 0.11086338758468628, \n",
            "Epoch: 500, Loss: 0.42413973808288574, \n",
            "Epoch: 550, Loss: 0.0147017240524292, \n",
            "Epoch: 600, Loss: 0.17335355281829834, \n",
            "Epoch: 650, Loss: 0.14678263664245605, \n",
            "Epoch: 700, Loss: 0.16014571487903595, \n",
            "Epoch: 750, Loss: 0.11333711445331573, \n",
            "Epoch: 800, Loss: 0.06096881628036499, \n",
            "Epoch: 850, Loss: 0.2420940399169922, \n",
            "Epoch: 900, Loss: 0.018587589263916016, \n",
            "Epoch: 950, Loss: 0.06934898346662521, \n",
            "Epoch: 1000, Loss: 0.14879608154296875, \n",
            "Epoch: 1050, Loss: 0.3604014813899994, \n",
            "Epoch: 1100, Loss: 0.06047773361206055, \n",
            "Epoch: 1150, Loss: 0.12441679835319519, \n",
            "Epoch: 1200, Loss: 0.21720333397388458, \n",
            "Epoch: 1250, Loss: 0.07861971855163574, \n",
            "Epoch: 1300, Loss: 0.2515699863433838, \n",
            "Epoch: 1350, Loss: 0.03848743438720703, \n",
            "Epoch: 1400, Loss: 0.06716489791870117, \n",
            "Epoch: 1450, Loss: 0.3703159987926483, \n",
            "Epoch: 1500, Loss: 0.140874445438385, \n",
            "Epoch: 1550, Loss: 0.35777968168258667, \n",
            "Epoch: 1600, Loss: 0.14459186792373657, \n",
            "Epoch: 1650, Loss: 0.0045299530029296875, \n",
            "Epoch: 1700, Loss: 0.13064122200012207, \n",
            "Epoch: 1750, Loss: 0.15473435819149017, \n",
            "Epoch: 1800, Loss: 0.4183093309402466, \n",
            "Epoch: 1850, Loss: 0.01723301410675049, \n",
            "Epoch: 1900, Loss: 0.08276206254959106, \n",
            "Epoch: 1950, Loss: 0.15278613567352295, \n",
            "Epoch: 2000, Loss: 0.10862268507480621, \n"
          ],
          "name": "stdout"
        }
      ]
    },
    {
      "cell_type": "code",
      "metadata": {
        "id": "QV0dIdveyCRi",
        "colab": {
          "base_uri": "https://localhost:8080/"
        },
        "outputId": "2989fae6-78dc-4f9b-ca76-cd5a41f120b9"
      },
      "source": [
        "1936 + 88"
      ],
      "execution_count": 17,
      "outputs": [
        {
          "output_type": "execute_result",
          "data": {
            "text/plain": [
              "2024"
            ]
          },
          "metadata": {
            "tags": []
          },
          "execution_count": 17
        }
      ]
    },
    {
      "cell_type": "code",
      "metadata": {
        "id": "Q9RKrILLPjVc"
      },
      "source": [
        ""
      ],
      "execution_count": null,
      "outputs": []
    }
  ]
}